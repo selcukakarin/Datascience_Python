{
 "cells": [
  {
   "cell_type": "code",
   "execution_count": 2,
   "metadata": {},
   "outputs": [
    {
     "name": "stdout",
     "output_type": "stream",
     "text": [
      "HELLO AI ERA\n"
     ]
    },
    {
     "data": {
      "text/plain": [
       "str"
      ]
     },
     "execution_count": 2,
     "metadata": {},
     "output_type": "execute_result"
    }
   ],
   "source": [
    "#SAYILAR VE STRINGLERE GIRIS\n",
    "9\n",
    "9.2\n",
    "9+9\n",
    "9*9\n",
    "\n",
    "print('HELLO AI ERA')\n",
    "\"HELLO AI ERA\"\n",
    "\n",
    "type(9)\n",
    "type(9.2)\n",
    "type(\"HELLO AI ERA\")"
   ]
  },
  {
   "cell_type": "code",
   "execution_count": 5,
   "metadata": {},
   "outputs": [
    {
     "data": {
      "text/plain": [
       "'a a a '"
      ]
     },
     "execution_count": 5,
     "metadata": {},
     "output_type": "execute_result"
    }
   ],
   "source": [
    "#STRINGLERE YAKINDAN BAKALIM\n",
    "\n",
    "\"\"\n",
    "''\n",
    "\n",
    "123\n",
    "type(123)\n",
    "\"123\"\n",
    "type(\"123\")\n",
    "\n",
    "\"a\" + \"b\" \n",
    "\"a\" \" b\" \n",
    "#\"a\" + \"-b\" \n",
    "\n",
    "#\"a\" - \"b\" \n",
    "\n",
    "\"a \"*3\n",
    "#\"a\"/3"
   ]
  },
  {
   "cell_type": "code",
   "execution_count": 7,
   "metadata": {},
   "outputs": [
    {
     "data": {
      "text/plain": [
       "17"
      ]
     },
     "execution_count": 7,
     "metadata": {},
     "output_type": "execute_result"
    }
   ],
   "source": [
    "#STRING METODLARI - len()\n",
    "\n",
    "gel_yaz = \"gelecegi_yazanlar\"\n",
    "#del mvk\n",
    "\n",
    "a = 9\n",
    "b = 10\n",
    "\n",
    "a*b\n",
    "\n",
    "\n",
    "len(gel_yaz)\n",
    "len(\"gelecegi_yazanlar\")"
   ]
  },
  {
   "cell_type": "code",
   "execution_count": 8,
   "metadata": {},
   "outputs": [
    {
     "data": {
      "text/plain": [
       "True"
      ]
     },
     "execution_count": 8,
     "metadata": {},
     "output_type": "execute_result"
    }
   ],
   "source": [
    "#STRING METODLARI - upper() & lower()\n",
    "\n",
    "gel_yaz = \"gelecegi_yazanlar\"\n",
    "\n",
    "gel_yaz.upper()\n",
    "gel_yaz.lower()\n",
    "\n",
    "gel_yaz.islower()\n",
    "B = gel_yaz.upper()\n",
    "\n",
    "B.islower()\n",
    "B.isupper()\n"
   ]
  },
  {
   "cell_type": "code",
   "execution_count": 9,
   "metadata": {},
   "outputs": [
    {
     "data": {
      "text/plain": [
       "'gelecegi_yizinlir'"
      ]
     },
     "execution_count": 9,
     "metadata": {},
     "output_type": "execute_result"
    }
   ],
   "source": [
    "#STRING METODLARI - replace()\n",
    "\n",
    "gel_yaz = \"gelecegi_yazanlar\"\n",
    "\n",
    "gel_yaz.replace(\"e\",\"a\")\n",
    "\n",
    "gel_yaz.replace(\"a\",\"i\")"
   ]
  },
  {
   "cell_type": "code",
   "execution_count": 10,
   "metadata": {},
   "outputs": [
    {
     "data": {
      "text/plain": [
       "'gelecegi_yazanlar'"
      ]
     },
     "execution_count": 10,
     "metadata": {},
     "output_type": "execute_result"
    }
   ],
   "source": [
    "#STRING METODLARI - strip()\n",
    "\n",
    "gel_yaz = \" gelecegi_yazanlar \"\n",
    "gel_yaz.strip()\n",
    "\n",
    "gel_yaz = \"*gelecegi_yazanlar*\"\n",
    "gel_yaz.strip(\"*\")\n",
    "\n",
    "gel_yaz = \"lgelecegi_yazanlarl\"\n",
    "gel_yaz.strip(\"l\")"
   ]
  },
  {
   "cell_type": "code",
   "execution_count": 11,
   "metadata": {},
   "outputs": [
    {
     "data": {
      "text/plain": [
       "'Gelecegi_Yazanlar'"
      ]
     },
     "execution_count": 11,
     "metadata": {},
     "output_type": "execute_result"
    }
   ],
   "source": [
    "#METODLARA GENEL BAKIS\n",
    "\n",
    "gel_yaz = \"gelecegi_yazanlar\"\n",
    "\n",
    "dir(gel_yaz)\n",
    "\n",
    "gel_yaz.capitalize()\n",
    "gel_yaz.title() "
   ]
  },
  {
   "cell_type": "code",
   "execution_count": 12,
   "metadata": {},
   "outputs": [
    {
     "ename": "IndexError",
     "evalue": "string index out of range",
     "output_type": "error",
     "traceback": [
      "\u001b[1;31m---------------------------------------------------------------------------\u001b[0m",
      "\u001b[1;31mIndexError\u001b[0m                                Traceback (most recent call last)",
      "\u001b[1;32m<ipython-input-12-8308f1c6f2f2>\u001b[0m in \u001b[0;36m<module>\u001b[1;34m()\u001b[0m\n\u001b[0;32m      5\u001b[0m \u001b[0mgel_yaz\u001b[0m\u001b[1;33m[\u001b[0m\u001b[1;36m1\u001b[0m\u001b[1;33m]\u001b[0m\u001b[1;33m\u001b[0m\u001b[0m\n\u001b[0;32m      6\u001b[0m \u001b[1;33m\u001b[0m\u001b[0m\n\u001b[1;32m----> 7\u001b[1;33m \u001b[0mgel_yaz\u001b[0m\u001b[1;33m[\u001b[0m\u001b[1;36m20\u001b[0m\u001b[1;33m]\u001b[0m\u001b[1;33m\u001b[0m\u001b[0m\n\u001b[0m\u001b[0;32m      8\u001b[0m \u001b[1;33m\u001b[0m\u001b[0m\n\u001b[0;32m      9\u001b[0m \u001b[0mgel_yaz\u001b[0m\u001b[1;33m[\u001b[0m\u001b[1;36m0\u001b[0m\u001b[1;33m:\u001b[0m\u001b[1;36m3\u001b[0m\u001b[1;33m]\u001b[0m\u001b[1;33m\u001b[0m\u001b[0m\n",
      "\u001b[1;31mIndexError\u001b[0m: string index out of range"
     ]
    }
   ],
   "source": [
    "#SUBSTRINGLER\n",
    "\n",
    "gel_yaz = \"gelecegi_yazanlar\"\n",
    "\n",
    "gel_yaz[1]\n",
    "\n",
    "gel_yaz[20]\n",
    "\n",
    "gel_yaz[0:3]"
   ]
  },
  {
   "cell_type": "code",
   "execution_count": 13,
   "metadata": {},
   "outputs": [],
   "source": [
    "#DEGISKENLER\n",
    "\n",
    "a = 9\n",
    "b = \"ali_uzaya_git\"\n",
    "c = a*2\n",
    "\n",
    "\n",
    "a/c\n",
    "a*c\n",
    "a*5\n",
    "\n",
    "type(100)\n",
    "type(100.2)\n",
    "type(1+2j)\n",
    "\n",
    "a = 100.2"
   ]
  },
  {
   "cell_type": "code",
   "execution_count": 14,
   "metadata": {},
   "outputs": [
    {
     "name": "stdout",
     "output_type": "stream",
     "text": [
      "1\n",
      "2\n"
     ]
    },
    {
     "data": {
      "text/plain": [
       "str"
      ]
     },
     "execution_count": 14,
     "metadata": {},
     "output_type": "execute_result"
    }
   ],
   "source": [
    "#TYPE_DONUSUMLERI\n",
    "\n",
    "toplama_bir = input()\n",
    "toplama_iki = input()\n",
    "\n",
    "type(toplama_bir)\n",
    "\n",
    "toplama_bir + toplama_iki\n",
    "\n",
    "int(toplama_bir) + int(toplama_iki)\n",
    "\n",
    "int(11.0)\n",
    "\n",
    "12\n",
    "\n",
    "float(12)\n",
    "\n",
    "type(str(12))"
   ]
  },
  {
   "cell_type": "code",
   "execution_count": 15,
   "metadata": {},
   "outputs": [
    {
     "name": "stdout",
     "output_type": "stream",
     "text": [
      "HELLO AI ERA\n",
      "gelecegi yazanlar\n",
      "gelecegi_yazanlar\n",
      "\n"
     ]
    },
    {
     "ename": "TypeError",
     "evalue": "type() takes 1 or 3 arguments",
     "output_type": "error",
     "traceback": [
      "\u001b[1;31m---------------------------------------------------------------------------\u001b[0m",
      "\u001b[1;31mTypeError\u001b[0m                                 Traceback (most recent call last)",
      "\u001b[1;32m<ipython-input-15-1b11291c7fdd>\u001b[0m in \u001b[0;36m<module>\u001b[1;34m()\u001b[0m\n\u001b[0;32m      9\u001b[0m \u001b[0mprint\u001b[0m\u001b[1;33m(\u001b[0m\u001b[1;33m)\u001b[0m\u001b[1;33m\u001b[0m\u001b[0m\n\u001b[0;32m     10\u001b[0m \u001b[1;33m\u001b[0m\u001b[0m\n\u001b[1;32m---> 11\u001b[1;33m \u001b[0mtype\u001b[0m\u001b[1;33m(\u001b[0m\u001b[1;33m)\u001b[0m\u001b[1;33m\u001b[0m\u001b[0m\n\u001b[0m\u001b[0;32m     12\u001b[0m \u001b[1;33m\u001b[0m\u001b[0m\n\u001b[0;32m     13\u001b[0m \u001b[0mprint\u001b[0m\u001b[1;33m(\u001b[0m\u001b[1;33m)\u001b[0m\u001b[1;33m\u001b[0m\u001b[0m\n",
      "\u001b[1;31mTypeError\u001b[0m: type() takes 1 or 3 arguments"
     ]
    }
   ],
   "source": [
    "#print()\n",
    "\n",
    "print(\"HELLO AI ERA\")\n",
    "\n",
    "print(\"gelecegi\",\"yazanlar\")\n",
    "\n",
    "print(\"gelecegi\",\"yazanlar\", sep = \"_\")\n",
    "\n",
    "print()\n",
    "\n",
    "type()\n",
    "\n",
    "print()\n",
    "\n",
    "#?print"
   ]
  },
  {
   "cell_type": "code",
   "execution_count": 16,
   "metadata": {},
   "outputs": [],
   "source": [
    "#VERI YAPILARI\n",
    "\n",
    "#Listeler \n",
    "\n",
    "#[]\n",
    "#list()\n",
    "\n",
    "notlar = [90,80,70,50]\n",
    "type(notlar)\n",
    "\n",
    "liste = [\"a\",19.3,90]\n",
    "list_genis = [\"a\",19.3,90, notlar]\n",
    "\n",
    "len(list_genis)\n",
    "\n",
    "list_genis[0]\n",
    "list_genis[1]\n",
    "list_genis[3]\n",
    "\n",
    "type(list_genis[3])\n",
    "\n",
    "tum_liste = [liste, list_genis]\n",
    "\n",
    "#del tum_liste\n"
   ]
  },
  {
   "cell_type": "code",
   "execution_count": 17,
   "metadata": {},
   "outputs": [
    {
     "ename": "IndexError",
     "evalue": "list index out of range",
     "output_type": "error",
     "traceback": [
      "\u001b[1;31m---------------------------------------------------------------------------\u001b[0m",
      "\u001b[1;31mIndexError\u001b[0m                                Traceback (most recent call last)",
      "\u001b[1;32m<ipython-input-17-d5994164d411>\u001b[0m in \u001b[0;36m<module>\u001b[1;34m()\u001b[0m\n\u001b[0;32m      7\u001b[0m \u001b[0mliste\u001b[0m\u001b[1;33m[\u001b[0m\u001b[1;36m1\u001b[0m\u001b[1;33m]\u001b[0m\u001b[1;33m\u001b[0m\u001b[0m\n\u001b[0;32m      8\u001b[0m \u001b[1;33m\u001b[0m\u001b[0m\n\u001b[1;32m----> 9\u001b[1;33m \u001b[0mliste\u001b[0m\u001b[1;33m[\u001b[0m\u001b[1;36m6\u001b[0m\u001b[1;33m]\u001b[0m\u001b[1;33m\u001b[0m\u001b[0m\n\u001b[0m\u001b[0;32m     10\u001b[0m \u001b[1;33m\u001b[0m\u001b[0m\n\u001b[0;32m     11\u001b[0m \u001b[0mliste\u001b[0m\u001b[1;33m[\u001b[0m\u001b[1;36m0\u001b[0m\u001b[1;33m:\u001b[0m\u001b[1;36m2\u001b[0m\u001b[1;33m]\u001b[0m\u001b[1;33m\u001b[0m\u001b[0m\n",
      "\u001b[1;31mIndexError\u001b[0m: list index out of range"
     ]
    }
   ],
   "source": [
    "#Listeler - Eleman Islemleri\n",
    "\n",
    "\n",
    "liste = [10,20,30,40,50]\n",
    "\n",
    "liste[0]\n",
    "liste[1]\n",
    "\n",
    "liste[6]\n",
    "\n",
    "liste[0:2]\n",
    "\n",
    "liste[:2]\n",
    "\n",
    "liste[2:]\n",
    "\n",
    "yeni_liste = [\"a\",10,[20,30,40,50]]\n",
    "yeni_liste\n",
    "\n",
    "yeni_liste[2]\n",
    "\n",
    "yeni_liste[0:2]\n",
    "\n",
    "yeni_liste[2][1]"
   ]
  },
  {
   "cell_type": "code",
   "execution_count": 18,
   "metadata": {},
   "outputs": [
    {
     "data": {
      "text/plain": [
       "['ali', 'veli', 'berkcan', 'ayse', 'kemal']"
      ]
     },
     "execution_count": 18,
     "metadata": {},
     "output_type": "execute_result"
    }
   ],
   "source": [
    "#Listeler - Eleman Degistirme\n",
    "\n",
    "liste = [\"ali\",\"veli\",\"berkcan\",\"ayse\"]\n",
    "liste\n",
    "\n",
    "liste[1] = \"velinin_babasi\"\n",
    "\n",
    "liste\n",
    "\n",
    "liste[1] = \"veli\"\n",
    "\n",
    "liste[0:3] = \"alinin_babasi\",\"velinin_babasi\",\"berkcanin_babasi\"  \n",
    "\n",
    "liste\n",
    "\n",
    "liste = [\"ali\",\"veli\",\"berkcan\",\"ayse\"]\n",
    "liste\n",
    "\n",
    "liste = liste + [\"kemal\"]\n",
    "liste\n",
    "\n",
    "#del liste[2]\n",
    "liste"
   ]
  },
  {
   "cell_type": "code",
   "execution_count": 19,
   "metadata": {},
   "outputs": [
    {
     "data": {
      "text/plain": [
       "['ali', 'veli', 'isik']"
      ]
     },
     "execution_count": 19,
     "metadata": {},
     "output_type": "execute_result"
    }
   ],
   "source": [
    "#Listeler - Liste Metodları\n",
    "\n",
    "liste = [\"ali\",\"veli\",\"isik\"]\n",
    "\n",
    "dir(liste)\n",
    "\n",
    "liste"
   ]
  },
  {
   "cell_type": "code",
   "execution_count": 20,
   "metadata": {},
   "outputs": [
    {
     "data": {
      "text/plain": [
       "['ali', 'veli', 'isik']"
      ]
     },
     "execution_count": 20,
     "metadata": {},
     "output_type": "execute_result"
    }
   ],
   "source": [
    "#append & remove\n",
    "\n",
    "liste.append(\"berkcan\")\n",
    "\n",
    "liste\n",
    "\n",
    "liste.remove(\"berkcan\")\n",
    "liste\n"
   ]
  },
  {
   "cell_type": "code",
   "execution_count": 21,
   "metadata": {},
   "outputs": [
    {
     "data": {
      "text/plain": [
       "['ayse', 'ali', 'mehmet', 'veli', 'isik', 'berk', 'beren']"
      ]
     },
     "execution_count": 21,
     "metadata": {},
     "output_type": "execute_result"
    }
   ],
   "source": [
    "# insert \n",
    "\n",
    "liste = [\"ali\",\"veli\",\"isik\"]\n",
    "\n",
    "liste\n",
    "\n",
    "liste.insert(0,\"ayse\")\n",
    "\n",
    "liste\n",
    "\n",
    "liste = [\"ali\",\"veli\",\"isik\"]\n",
    "\n",
    "liste[0] = \"ayse\"\n",
    "\n",
    "liste\n",
    "\n",
    "liste.insert(0,\"ayse\")\n",
    "liste\n",
    "\n",
    "liste[1] = \"ali\"\n",
    "\n",
    "liste\n",
    "\n",
    "liste.insert(2,\"mehmet\")\n",
    "liste\n",
    "\n",
    "liste.insert(5,\"berk\")\n",
    "liste\n",
    "\n",
    "len(liste)\n",
    "\n",
    "\n",
    "liste.insert(len(liste),\"beren\")\n",
    "liste\n"
   ]
  },
  {
   "cell_type": "code",
   "execution_count": 22,
   "metadata": {},
   "outputs": [
    {
     "data": {
      "text/plain": [
       "['ali', 'mehmet', 'veli', 'isik', 'beren']"
      ]
     },
     "execution_count": 22,
     "metadata": {},
     "output_type": "execute_result"
    }
   ],
   "source": [
    "#pop \n",
    "\n",
    "\n",
    "liste.pop(0)\n",
    "liste\n",
    "\n",
    "liste.pop(4)\n",
    "liste"
   ]
  },
  {
   "cell_type": "code",
   "execution_count": 23,
   "metadata": {},
   "outputs": [
    {
     "data": {
      "text/plain": [
       "1"
      ]
     },
     "execution_count": 23,
     "metadata": {},
     "output_type": "execute_result"
    }
   ],
   "source": [
    "#count\n",
    "\n",
    "liste = [\"ali\",\"veli\",\"isik\",\"ali\",\"veli\"]\n",
    "\n",
    "liste.count(\"ali\")\n",
    "liste.count(\"veli\")\n",
    "liste.count(\"isik\")"
   ]
  },
  {
   "cell_type": "code",
   "execution_count": 24,
   "metadata": {},
   "outputs": [],
   "source": [
    "#copy\n",
    "\n",
    "liste_yedek = liste.copy()"
   ]
  },
  {
   "cell_type": "code",
   "execution_count": 25,
   "metadata": {},
   "outputs": [
    {
     "data": {
      "text/plain": [
       "['ali', 'veli', 'isik', 'ali', 'veli', 'a', 'b', 10]"
      ]
     },
     "execution_count": 25,
     "metadata": {},
     "output_type": "execute_result"
    }
   ],
   "source": [
    "#extend\n",
    "\n",
    "liste.extend([\"a\",\"b\",10])\n",
    "liste"
   ]
  },
  {
   "cell_type": "code",
   "execution_count": 26,
   "metadata": {},
   "outputs": [
    {
     "data": {
      "text/plain": [
       "0"
      ]
     },
     "execution_count": 26,
     "metadata": {},
     "output_type": "execute_result"
    }
   ],
   "source": [
    "#index()\n",
    "\n",
    "liste.index(\"ali\")"
   ]
  },
  {
   "cell_type": "code",
   "execution_count": 27,
   "metadata": {},
   "outputs": [
    {
     "data": {
      "text/plain": [
       "[10, 'b', 'a', 'veli', 'ali', 'isik', 'veli', 'ali']"
      ]
     },
     "execution_count": 27,
     "metadata": {},
     "output_type": "execute_result"
    }
   ],
   "source": [
    "#reverse()\n",
    "\n",
    "liste.reverse()\n",
    "liste"
   ]
  },
  {
   "cell_type": "code",
   "execution_count": 28,
   "metadata": {},
   "outputs": [
    {
     "data": {
      "text/plain": [
       "[5, 10, 40, 90]"
      ]
     },
     "execution_count": 28,
     "metadata": {},
     "output_type": "execute_result"
    }
   ],
   "source": [
    "#sort()\n",
    "\n",
    "liste = [10,40,5,90]\n",
    "liste.sort()\n",
    "liste"
   ]
  },
  {
   "cell_type": "code",
   "execution_count": 29,
   "metadata": {},
   "outputs": [
    {
     "data": {
      "text/plain": [
       "[]"
      ]
     },
     "execution_count": 29,
     "metadata": {},
     "output_type": "execute_result"
    }
   ],
   "source": [
    "#clear\n",
    "\n",
    "liste.clear()\n",
    "liste"
   ]
  },
  {
   "cell_type": "code",
   "execution_count": 30,
   "metadata": {},
   "outputs": [
    {
     "data": {
      "text/plain": [
       "tuple"
      ]
     },
     "execution_count": 30,
     "metadata": {},
     "output_type": "execute_result"
    }
   ],
   "source": [
    "#Veri Yapıları - Tuple\n",
    "\n",
    "#Tuple Olusturma\n",
    "\n",
    "t = (\"ali\",\"veli\",1,2,3.2,[1,2,3,4])\n",
    "\n",
    "t = \"ali\",\"veli\",1,2,3.2, [1,2,3,4]\n",
    "\n",
    "#tuple()\n",
    "\n",
    "t = (\"eleman\",)\n",
    "type(t)"
   ]
  },
  {
   "cell_type": "code",
   "execution_count": 31,
   "metadata": {},
   "outputs": [
    {
     "ename": "TypeError",
     "evalue": "'tuple' object does not support item assignment",
     "output_type": "error",
     "traceback": [
      "\u001b[1;31m---------------------------------------------------------------------------\u001b[0m",
      "\u001b[1;31mTypeError\u001b[0m                                 Traceback (most recent call last)",
      "\u001b[1;32m<ipython-input-31-6097c203000f>\u001b[0m in \u001b[0;36m<module>\u001b[1;34m()\u001b[0m\n\u001b[0;32m      7\u001b[0m \u001b[0mt\u001b[0m\u001b[1;33m[\u001b[0m\u001b[1;36m0\u001b[0m\u001b[1;33m:\u001b[0m\u001b[1;36m3\u001b[0m\u001b[1;33m]\u001b[0m\u001b[1;33m\u001b[0m\u001b[0m\n\u001b[0;32m      8\u001b[0m \u001b[1;33m\u001b[0m\u001b[0m\n\u001b[1;32m----> 9\u001b[1;33m \u001b[0mt\u001b[0m\u001b[1;33m[\u001b[0m\u001b[1;36m2\u001b[0m\u001b[1;33m]\u001b[0m \u001b[1;33m=\u001b[0m \u001b[1;36m99\u001b[0m\u001b[1;33m\u001b[0m\u001b[0m\n\u001b[0m",
      "\u001b[1;31mTypeError\u001b[0m: 'tuple' object does not support item assignment"
     ]
    }
   ],
   "source": [
    "#Tuple Eleman Islemleri\n",
    "\n",
    "t = (\"ali\",\"veli\",1,2,3, [1,2,3,4])\n",
    "t\n",
    "\n",
    "t[1]\n",
    "t[0:3]\n",
    "\n",
    "t[2] = 99"
   ]
  },
  {
   "cell_type": "code",
   "execution_count": 32,
   "metadata": {},
   "outputs": [
    {
     "data": {
      "text/plain": [
       "{'REG': ['RMSE', 10], 'LOJ': ['MSE', 20], 'CART': ['SSE', 30]}"
      ]
     },
     "execution_count": 32,
     "metadata": {},
     "output_type": "execute_result"
    }
   ],
   "source": [
    "# Veri Yapıları - Dictionary (Sözlük)\n",
    "\n",
    "\n",
    "#Sozluk Olusturma\n",
    "sozluk = {\"REG\" : \"Regresyon Modeli\",\n",
    "          \"LOJ\" : \"Lojistik Regresyon\",\n",
    "          \"CART\" : \"Classification and Reg\"}\n",
    "\n",
    "sozluk\n",
    "\n",
    "len(sozluk)\n",
    "\n",
    "\n",
    "sozluk = {\"REG\" : 10,\n",
    "          \"LOJ\" : 20,\n",
    "          \"CART\" : 30}\n",
    "\n",
    "sozluk\n",
    "\n",
    "\n",
    "sozluk = {\"REG\" : [\"RMSE\",10],\n",
    "          \"LOJ\" : [\"MSE\", 20],\n",
    "          \"CART\" : [\"SSE\",30]}\n",
    "\n",
    "sozluk"
   ]
  },
  {
   "cell_type": "code",
   "execution_count": 33,
   "metadata": {},
   "outputs": [
    {
     "ename": "KeyError",
     "evalue": "0",
     "output_type": "error",
     "traceback": [
      "\u001b[1;31m---------------------------------------------------------------------------\u001b[0m",
      "\u001b[1;31mKeyError\u001b[0m                                  Traceback (most recent call last)",
      "\u001b[1;32m<ipython-input-33-9d412f1e7b64>\u001b[0m in \u001b[0;36m<module>\u001b[1;34m()\u001b[0m\n\u001b[0;32m      6\u001b[0m \u001b[1;33m\u001b[0m\u001b[0m\n\u001b[0;32m      7\u001b[0m \u001b[1;33m\u001b[0m\u001b[0m\n\u001b[1;32m----> 8\u001b[1;33m \u001b[0msozluk\u001b[0m\u001b[1;33m[\u001b[0m\u001b[1;36m0\u001b[0m\u001b[1;33m]\u001b[0m\u001b[1;33m\u001b[0m\u001b[0m\n\u001b[0m\u001b[0;32m      9\u001b[0m \u001b[1;33m\u001b[0m\u001b[0m\n\u001b[0;32m     10\u001b[0m \u001b[0msozluk\u001b[0m\u001b[1;33m[\u001b[0m\u001b[1;34m\"REG\"\u001b[0m\u001b[1;33m]\u001b[0m\u001b[1;33m\u001b[0m\u001b[0m\n",
      "\u001b[1;31mKeyError\u001b[0m: 0"
     ]
    }
   ],
   "source": [
    "#Sozluk Eleman Islemleri\n",
    "\n",
    "sozluk = {\"REG\" : \"Regresyon Modeli\",\n",
    "          \"LOJ\" : \"Lojistik Regresyon\",\n",
    "          \"CART\" : \"Classification and Reg\"}\n",
    "\n",
    "\n",
    "sozluk[0]\n",
    "\n",
    "sozluk[\"REG\"]\n",
    "sozluk[\"LOJ\"]\n",
    "\n",
    "sozluk = {\"REG\" : [\"RMSE\",10],\n",
    "          \"LOJ\" : [\"MSE\", 20],\n",
    "          \"CART\" : [\"SSE\",30]}\n",
    "\n",
    "\n",
    "sozluk[\"REG\"]\n",
    "\n",
    "sozluk = {\"REG\" : {\"RMSE\": 10,\n",
    "                   \"MSE\" : 20,\n",
    "                   \"SSE\" : 30},\n",
    "\n",
    "          \"LOJ\" : {\"RMSE\": 10,\n",
    "                   \"MSE\" : 20,\n",
    "                   \"SSE\" : 30},\n",
    "                   \n",
    "          \"CART\" : {\"RMSE\": 10,\n",
    "                   \"MSE\" : 20,\n",
    "                   \"SSE\" : 30}}\n",
    "\n",
    "sozluk\n",
    "sozluk[\"REG\"][\"SSE\"]"
   ]
  },
  {
   "cell_type": "code",
   "execution_count": 34,
   "metadata": {},
   "outputs": [
    {
     "ename": "TypeError",
     "evalue": "unhashable type: 'list'",
     "output_type": "error",
     "traceback": [
      "\u001b[1;31m---------------------------------------------------------------------------\u001b[0m",
      "\u001b[1;31mTypeError\u001b[0m                                 Traceback (most recent call last)",
      "\u001b[1;32m<ipython-input-34-dff092551054>\u001b[0m in \u001b[0;36m<module>\u001b[1;34m()\u001b[0m\n\u001b[0;32m     18\u001b[0m \u001b[0ml\u001b[0m\u001b[1;33m\u001b[0m\u001b[0m\n\u001b[0;32m     19\u001b[0m \u001b[1;33m\u001b[0m\u001b[0m\n\u001b[1;32m---> 20\u001b[1;33m \u001b[0msozluk\u001b[0m\u001b[1;33m[\u001b[0m\u001b[0ml\u001b[0m\u001b[1;33m]\u001b[0m \u001b[1;33m=\u001b[0m \u001b[1;34m\"yeni bir sey\"\u001b[0m\u001b[1;33m\u001b[0m\u001b[0m\n\u001b[0m\u001b[0;32m     21\u001b[0m \u001b[1;33m\u001b[0m\u001b[0m\n\u001b[0;32m     22\u001b[0m \u001b[0mt\u001b[0m \u001b[1;33m=\u001b[0m \u001b[1;33m(\u001b[0m\u001b[1;34m\"tuple\"\u001b[0m\u001b[1;33m,\u001b[0m\u001b[1;33m)\u001b[0m\u001b[1;33m\u001b[0m\u001b[0m\n",
      "\u001b[1;31mTypeError\u001b[0m: unhashable type: 'list'"
     ]
    }
   ],
   "source": [
    "#Sozluk - Eleman Eklemek & Degistirmek\n",
    "\n",
    "sozluk = {\"REG\" : \"Regresyon Modeli\",\n",
    "          \"LOJ\" : \"Lojistik Regresyon\",\n",
    "          \"CART\" : \"Classification and Reg\"}\n",
    "\n",
    "sozluk[\"GBM\"] = \"Gradient Boosting Mac\"\n",
    "sozluk\n",
    "\n",
    "sozluk[\"REG\"] = \"Coklu Dogrusal Regresyon\"\n",
    "sozluk\n",
    "\n",
    "sozluk[1] = \"Yapay Sinir Aglari\"\n",
    "\n",
    "sozluk\n",
    "\n",
    "l = [1]\n",
    "l\n",
    "\n",
    "sozluk[l] = \"yeni bir sey\"\n",
    "\n",
    "t = (\"tuple\",)\n",
    "\n",
    "sozluk[t] = \"yeni bir sey\"\n",
    "sozluk\n"
   ]
  },
  {
   "cell_type": "code",
   "execution_count": 35,
   "metadata": {},
   "outputs": [
    {
     "ename": "TypeError",
     "evalue": "'set' object does not support indexing",
     "output_type": "error",
     "traceback": [
      "\u001b[1;31m---------------------------------------------------------------------------\u001b[0m",
      "\u001b[1;31mTypeError\u001b[0m                                 Traceback (most recent call last)",
      "\u001b[1;32m<ipython-input-35-57d00ccd85f0>\u001b[0m in \u001b[0;36m<module>\u001b[1;34m()\u001b[0m\n\u001b[0;32m     34\u001b[0m \u001b[0ml\u001b[0m\u001b[1;33m[\u001b[0m\u001b[1;36m0\u001b[0m\u001b[1;33m]\u001b[0m\u001b[1;33m\u001b[0m\u001b[0m\n\u001b[0;32m     35\u001b[0m \u001b[1;33m\u001b[0m\u001b[0m\n\u001b[1;32m---> 36\u001b[1;33m \u001b[0ms\u001b[0m\u001b[1;33m[\u001b[0m\u001b[1;36m0\u001b[0m\u001b[1;33m]\u001b[0m\u001b[1;33m\u001b[0m\u001b[0m\n\u001b[0m",
      "\u001b[1;31mTypeError\u001b[0m: 'set' object does not support indexing"
     ]
    }
   ],
   "source": [
    "#Veri Yapilari - Setler\n",
    "\n",
    "#Set olusturmak\n",
    "\n",
    "s = set()\n",
    "s\n",
    "\n",
    "l = [1,\"a\",\"ali\", 123]\n",
    "s = set(l)\n",
    "s\n",
    "\n",
    "\n",
    "t = (\"a\",\"ali\")\n",
    "\n",
    "s = set(t)\n",
    "s\n",
    "\n",
    "ali = \"lutfen_ata_bak ma_uza ya_git\"\n",
    "type(ali)\n",
    "\n",
    "s = set(ali)\n",
    "s\n",
    "\n",
    "l = [\"ali\", \"lutfen\", \"ata\", \"bakma\", \"uzaya\",\n",
    "     \"git\", \"git\", \"ali\",\"git\"]\n",
    "\n",
    "l\n",
    "\n",
    "s = set(l)\n",
    "s\n",
    "\n",
    "len(s)\n",
    "\n",
    "l[0]\n",
    "\n",
    "s[0]\n"
   ]
  },
  {
   "cell_type": "code",
   "execution_count": 36,
   "metadata": {},
   "outputs": [
    {
     "ename": "KeyError",
     "evalue": "'ali'",
     "output_type": "error",
     "traceback": [
      "\u001b[1;31m---------------------------------------------------------------------------\u001b[0m",
      "\u001b[1;31mKeyError\u001b[0m                                  Traceback (most recent call last)",
      "\u001b[1;32m<ipython-input-36-a6d009e668f7>\u001b[0m in \u001b[0;36m<module>\u001b[1;34m()\u001b[0m\n\u001b[0;32m     18\u001b[0m \u001b[0ms\u001b[0m\u001b[1;33m\u001b[0m\u001b[0m\n\u001b[0;32m     19\u001b[0m \u001b[1;33m\u001b[0m\u001b[0m\n\u001b[1;32m---> 20\u001b[1;33m \u001b[0ms\u001b[0m\u001b[1;33m.\u001b[0m\u001b[0mremove\u001b[0m\u001b[1;33m(\u001b[0m\u001b[1;34m\"ali\"\u001b[0m\u001b[1;33m)\u001b[0m\u001b[1;33m\u001b[0m\u001b[0m\n\u001b[0m\u001b[0;32m     21\u001b[0m \u001b[0ms\u001b[0m\u001b[1;33m\u001b[0m\u001b[0m\n\u001b[0;32m     22\u001b[0m \u001b[1;33m\u001b[0m\u001b[0m\n",
      "\u001b[1;31mKeyError\u001b[0m: 'ali'"
     ]
    }
   ],
   "source": [
    "# Eleman ekleme & cikarma\n",
    "\n",
    "l = [\"gelecegi\",\"yazanlar\"]\n",
    "\n",
    "s = set(l)\n",
    "\n",
    "s\n",
    "\n",
    "dir(s)\n",
    "\n",
    "s.add(\"ile\")\n",
    "s\n",
    "\n",
    "s.add(\"gelecege_git\")\n",
    "s\n",
    "\n",
    "s.add(\"ile\")\n",
    "s\n",
    "\n",
    "s.remove(\"ali\")\n",
    "s\n",
    "\n",
    "s.discard(\"ali\")"
   ]
  },
  {
   "cell_type": "code",
   "execution_count": 37,
   "metadata": {},
   "outputs": [
    {
     "data": {
      "text/plain": [
       "{2}"
      ]
     },
     "execution_count": 37,
     "metadata": {},
     "output_type": "execute_result"
    }
   ],
   "source": [
    "#Setler - Klasik Kume Islemleri\n",
    "\n",
    "# =============================================================================\n",
    "# difference() ile iki kumenin farkini ya da \"-\" ifadesi\n",
    "# intersection() iki kume kesisimi ya da \"&\" ifadesi\n",
    "# union() iki kumenin birlesimi\n",
    "# symmetric_difference() ikisinde de olmayanlari.\n",
    "# =============================================================================\n",
    "\n",
    "\n",
    "#difference\n",
    "\n",
    "set1 = set([1,3,5])\n",
    "set2 = set([1,2,3])\n",
    "\n",
    "set1.difference(set2)\n",
    "\n",
    "set2.difference(set1)\n",
    "\n",
    "set1.symmetric_difference(set2)\n",
    "\n",
    "set1 - set2\n",
    "set2 - set1"
   ]
  },
  {
   "cell_type": "code",
   "execution_count": 1,
   "metadata": {},
   "outputs": [
    {
     "data": {
      "text/plain": [
       "{1, 3}"
      ]
     },
     "execution_count": 1,
     "metadata": {},
     "output_type": "execute_result"
    }
   ],
   "source": [
    "#intersection & union\n",
    "\n",
    "set1 = set([1,3,5])\n",
    "set2 = set([1,2,3])\n",
    "\n",
    "set1.intersection(set2)\n",
    "set2.intersection(set1)\n",
    "\n",
    "\n",
    "kesisim = set1 & set2\n",
    "kesisim\n",
    "\n",
    "birlesim = set1.union(set2)\n",
    "birlesim\n",
    "\n",
    "set1.intersection_update(set2)\n",
    "set1"
   ]
  },
  {
   "cell_type": "code",
   "execution_count": 2,
   "metadata": {},
   "outputs": [
    {
     "data": {
      "text/plain": [
       "['__add__',\n",
       " '__class__',\n",
       " '__contains__',\n",
       " '__delattr__',\n",
       " '__dir__',\n",
       " '__doc__',\n",
       " '__eq__',\n",
       " '__format__',\n",
       " '__ge__',\n",
       " '__getattribute__',\n",
       " '__getitem__',\n",
       " '__getnewargs__',\n",
       " '__gt__',\n",
       " '__hash__',\n",
       " '__init__',\n",
       " '__init_subclass__',\n",
       " '__iter__',\n",
       " '__le__',\n",
       " '__len__',\n",
       " '__lt__',\n",
       " '__mod__',\n",
       " '__mul__',\n",
       " '__ne__',\n",
       " '__new__',\n",
       " '__reduce__',\n",
       " '__reduce_ex__',\n",
       " '__repr__',\n",
       " '__rmod__',\n",
       " '__rmul__',\n",
       " '__setattr__',\n",
       " '__sizeof__',\n",
       " '__str__',\n",
       " '__subclasshook__',\n",
       " 'capitalize',\n",
       " 'casefold',\n",
       " 'center',\n",
       " 'count',\n",
       " 'encode',\n",
       " 'endswith',\n",
       " 'expandtabs',\n",
       " 'find',\n",
       " 'format',\n",
       " 'format_map',\n",
       " 'index',\n",
       " 'isalnum',\n",
       " 'isalpha',\n",
       " 'isdecimal',\n",
       " 'isdigit',\n",
       " 'isidentifier',\n",
       " 'islower',\n",
       " 'isnumeric',\n",
       " 'isprintable',\n",
       " 'isspace',\n",
       " 'istitle',\n",
       " 'isupper',\n",
       " 'join',\n",
       " 'ljust',\n",
       " 'lower',\n",
       " 'lstrip',\n",
       " 'maketrans',\n",
       " 'partition',\n",
       " 'replace',\n",
       " 'rfind',\n",
       " 'rindex',\n",
       " 'rjust',\n",
       " 'rpartition',\n",
       " 'rsplit',\n",
       " 'rstrip',\n",
       " 'split',\n",
       " 'splitlines',\n",
       " 'startswith',\n",
       " 'strip',\n",
       " 'swapcase',\n",
       " 'title',\n",
       " 'translate',\n",
       " 'upper',\n",
       " 'zfill']"
      ]
     },
     "execution_count": 2,
     "metadata": {},
     "output_type": "execute_result"
    }
   ],
   "source": [
    "#Set Sorgu Islemleri\n",
    "\n",
    "set1 = set([7,8,9])\n",
    "set2 = set([5,6,7,8,9,10])\n",
    "\n",
    "#iki kumenin kesisiminin bos olup \n",
    "#olmadiginin sorgulanması\n",
    "\n",
    "set1.isdisjoint(set2)\n",
    "\n",
    "\n",
    "#bir kumenin butun elemanlarinin baska bir kume\n",
    "#icerisinde yer alip almadigi\n",
    "\n",
    "set1.issubset(set2)\n",
    "\n",
    "#bir kumenin bir diger kumeyi kapsayip kapsamadigi\n",
    "\n",
    "set2.issuperset(set1)\n",
    "\n",
    "\n",
    "\n",
    "\n",
    "dir(str)\n"
   ]
  },
  {
   "cell_type": "code",
   "execution_count": 3,
   "metadata": {},
   "outputs": [
    {
     "name": "stdout",
     "output_type": "stream",
     "text": [
      "a_b\n",
      "\n"
     ]
    },
    {
     "data": {
      "text/plain": [
       "1"
      ]
     },
     "execution_count": 3,
     "metadata": {},
     "output_type": "execute_result"
    }
   ],
   "source": [
    "#FONKSIYONLARA GIRIS VE FONKSIYON OKURYAZARLIGI\n",
    "\n",
    "print(\"a\",\"b\", sep = \"_\")\n",
    "#?print\n",
    "print()\n",
    "\n",
    "len(\"a\")"
   ]
  },
  {
   "cell_type": "code",
   "execution_count": 4,
   "metadata": {},
   "outputs": [
    {
     "data": {
      "text/plain": [
       "27"
      ]
     },
     "execution_count": 4,
     "metadata": {},
     "output_type": "execute_result"
    }
   ],
   "source": [
    "#Matematiksel Islemler\n",
    "\n",
    "4*4\n",
    "4/4\n",
    "5-1\n",
    "6+3\n",
    "3**2\n",
    "3**3"
   ]
  },
  {
   "cell_type": "code",
   "execution_count": 5,
   "metadata": {},
   "outputs": [
    {
     "name": "stdout",
     "output_type": "stream",
     "text": [
      "25\n"
     ]
    }
   ],
   "source": [
    "#Fonksiyon Nasil Yazilir?\n",
    "\n",
    "4**2\n",
    "\n",
    "def kare_al(x):\n",
    "    print(x**2)\n",
    "    \n",
    "kare_al(5)    "
   ]
  },
  {
   "cell_type": "code",
   "execution_count": 6,
   "metadata": {},
   "outputs": [
    {
     "name": "stdout",
     "output_type": "stream",
     "text": [
      "25\n",
      "Girilen Sayinin Karesi:9\n",
      "Girilen Sayi:3, Karesi:9\n"
     ]
    }
   ],
   "source": [
    "#Bilgi Notuyla Cikti Uretmek\n",
    "\n",
    "def kare_al(x):\n",
    "    print(x**2)\n",
    "    \n",
    "kare_al(5)  \n",
    "\n",
    "def kare_al(x):\n",
    "    print(\"Girilen Sayinin Karesi:\" + str(x**2))\n",
    "\n",
    "kare_al(3)\n",
    "\n",
    "def kare_al(x):\n",
    "    print(\"Girilen Sayi:\" + \n",
    "          str(x) + \n",
    "          \", Karesi:\" +\n",
    "          str(x**2))\n",
    "\n",
    "kare_al(3)\n"
   ]
  },
  {
   "cell_type": "code",
   "execution_count": 7,
   "metadata": {},
   "outputs": [
    {
     "name": "stdout",
     "output_type": "stream",
     "text": [
      "6\n"
     ]
    }
   ],
   "source": [
    "#Iki Argumanli Fonksiyon Tanimlamak\n",
    "\n",
    "def kare_al(x):\n",
    "    print(x**2)\n",
    "    \n",
    "    \n",
    "def carpma_yap(x, y):\n",
    "    print(x*y)\n",
    "    \n",
    "carpma_yap(2,3)"
   ]
  },
  {
   "cell_type": "code",
   "execution_count": 8,
   "metadata": {},
   "outputs": [
    {
     "name": "stdout",
     "output_type": "stream",
     "text": [
      "12\n",
      "HELLO AI ERA\n"
     ]
    }
   ],
   "source": [
    "#On Tanimli Argumanlar\n",
    "\n",
    "#?print\n",
    "\n",
    "def carpma_yap(x, y = 1):\n",
    "    print(x*y)\n",
    "\n",
    "carpma_yap(3,4)\n",
    "\n",
    "print(\"HELLO AI ERA\")"
   ]
  },
  {
   "cell_type": "code",
   "execution_count": 9,
   "metadata": {},
   "outputs": [
    {
     "name": "stdout",
     "output_type": "stream",
     "text": [
      "6\n",
      "6\n"
     ]
    }
   ],
   "source": [
    "#Argumanlarin Siralamasi\n",
    "\n",
    "def carpma_yap(x, y = 1):\n",
    "    print(x*y)\n",
    "\n",
    "carpma_yap(y = 2, x = 3)\n",
    "\n",
    "carpma_yap(2,3)"
   ]
  },
  {
   "cell_type": "code",
   "execution_count": 10,
   "metadata": {},
   "outputs": [
    {
     "name": "stdout",
     "output_type": "stream",
     "text": [
      "0.9285714285714286\n"
     ]
    }
   ],
   "source": [
    "#Ne Zaman Fonksiyon Yazilir?\n",
    "\n",
    "#isi, nem, sarj\n",
    "\n",
    "(40+25)/90\n",
    "\n",
    "\n",
    "def direk_hesap(isi, nem, sarj):\n",
    "    print((isi + nem)/sarj)\n",
    "\n",
    "direk_hesap(25,40,70)"
   ]
  },
  {
   "cell_type": "code",
   "execution_count": 11,
   "metadata": {},
   "outputs": [
    {
     "name": "stdout",
     "output_type": "stream",
     "text": [
      "0.9285714285714286\n",
      "None\n",
      "0.9285714285714286\n"
     ]
    },
    {
     "ename": "TypeError",
     "evalue": "unsupported operand type(s) for *: 'NoneType' and 'int'",
     "output_type": "error",
     "traceback": [
      "\u001b[1;31m---------------------------------------------------------------------------\u001b[0m",
      "\u001b[1;31mTypeError\u001b[0m                                 Traceback (most recent call last)",
      "\u001b[1;32m<ipython-input-11-96954937e79e>\u001b[0m in \u001b[0;36m<module>\u001b[1;34m()\u001b[0m\n\u001b[0;32m      7\u001b[0m \u001b[0mcikti\u001b[0m\u001b[1;33m\u001b[0m\u001b[0m\n\u001b[0;32m      8\u001b[0m \u001b[0mprint\u001b[0m\u001b[1;33m(\u001b[0m\u001b[0mcikti\u001b[0m\u001b[1;33m)\u001b[0m\u001b[1;33m\u001b[0m\u001b[0m\n\u001b[1;32m----> 9\u001b[1;33m \u001b[0mdirek_hesap\u001b[0m\u001b[1;33m(\u001b[0m\u001b[1;36m25\u001b[0m\u001b[1;33m,\u001b[0m\u001b[1;36m40\u001b[0m\u001b[1;33m,\u001b[0m\u001b[1;36m70\u001b[0m\u001b[1;33m)\u001b[0m\u001b[1;33m*\u001b[0m\u001b[1;36m9\u001b[0m\u001b[1;33m\u001b[0m\u001b[0m\n\u001b[0m\u001b[0;32m     10\u001b[0m \u001b[1;33m\u001b[0m\u001b[0m\n\u001b[0;32m     11\u001b[0m \u001b[1;33m\u001b[0m\u001b[0m\n",
      "\u001b[1;31mTypeError\u001b[0m: unsupported operand type(s) for *: 'NoneType' and 'int'"
     ]
    }
   ],
   "source": [
    "#Ciktiyi Girdi Olarak Kullanmak\n",
    "\n",
    "def direk_hesap(isi, nem, sarj):\n",
    "    print((isi + nem)/sarj)\n",
    "\n",
    "cikti = direk_hesap(25,40,70)\n",
    "cikti\n",
    "print(cikti)\n",
    "direk_hesap(25,40,70)*9\n",
    "\n",
    "\n",
    "def direk_hesap(isi, nem, sarj):\n",
    "    return (isi + nem)/sarj\n",
    "\n",
    "\n",
    "cikti = direk_hesap(25,40,70)\n",
    "cikti\n",
    "print(cikti)\n",
    "direk_hesap(25,40,70)*9\n",
    "\n",
    "def direk_hesap(isi, nem, sarj):\n",
    "    return \n",
    "    (isi + nem)/sarj\n",
    "\n",
    "\n",
    "direk_hesap(25,40,70)\n"
   ]
  },
  {
   "cell_type": "code",
   "execution_count": 12,
   "metadata": {},
   "outputs": [
    {
     "data": {
      "text/plain": [
       "6"
      ]
     },
     "execution_count": 12,
     "metadata": {},
     "output_type": "execute_result"
    }
   ],
   "source": [
    "#Local ve Global Degiskenler\n",
    "\n",
    "x = 10\n",
    "y = 20\n",
    "\n",
    "def carpma_yap(x = 2,y = 1):\n",
    "    return x*y\n",
    "\n",
    "\n",
    "carpma_yap(2,3)\n"
   ]
  },
  {
   "cell_type": "code",
   "execution_count": 13,
   "metadata": {},
   "outputs": [
    {
     "name": "stdout",
     "output_type": "stream",
     "text": [
      "ali ifadesi eklendi\n",
      "veli ifadesi eklendi\n"
     ]
    },
    {
     "data": {
      "text/plain": [
       "['ali', 'veli']"
      ]
     },
     "execution_count": 13,
     "metadata": {},
     "output_type": "execute_result"
    }
   ],
   "source": [
    "#Local Etki Alanindan Global Etki Alanini Degistirmek\n",
    "\n",
    "\n",
    "x = []\n",
    "#del x\n",
    "\n",
    "def eleman_ekle(y):\n",
    "    x.append(y)\n",
    "    print(str(y) + \" ifadesi eklendi\")\n",
    "\n",
    "eleman_ekle(\"ali\")\n",
    "\n",
    "eleman_ekle(\"veli\")\n",
    "\n",
    "x"
   ]
  },
  {
   "cell_type": "code",
   "execution_count": 14,
   "metadata": {},
   "outputs": [
    {
     "data": {
      "text/plain": [
       "True"
      ]
     },
     "execution_count": 14,
     "metadata": {},
     "output_type": "execute_result"
    }
   ],
   "source": [
    "# KARAR & KONTROL YAPILARI\n",
    "\n",
    "\n",
    "#True-False Sorgulamaları\n",
    "\n",
    "sinir = 5000\n",
    "\n",
    "sinir == 4000\n",
    "\n",
    "sinir == 5000\n",
    "\n",
    "\n",
    "5 == 4\n",
    "\n",
    "5 == 5\n"
   ]
  },
  {
   "cell_type": "code",
   "execution_count": 15,
   "metadata": {},
   "outputs": [
    {
     "name": "stdout",
     "output_type": "stream",
     "text": [
      "Gelir sinirdan kucuk\n"
     ]
    }
   ],
   "source": [
    "#if\n",
    "\n",
    "sinir = 50000\n",
    "gelir = 60000\n",
    "\n",
    "gelir < sinir\n",
    "\n",
    "if gelir < sinir:\n",
    "    print(\"Gelir sinirdan kucuk\")\n",
    "    \n",
    "if gelir > sinir:\n",
    "    print(\"Gelir sinirdan kucuk\")"
   ]
  },
  {
   "cell_type": "code",
   "execution_count": 16,
   "metadata": {},
   "outputs": [
    {
     "name": "stdout",
     "output_type": "stream",
     "text": [
      "Gelir sinirdan kucuk\n"
     ]
    }
   ],
   "source": [
    "#else\n",
    "\n",
    "sinir = 50000\n",
    "gelir = 35000\n",
    "    \n",
    "if gelir > sinir:\n",
    "    print(\"Gelir sinirdan buyuk\")\n",
    "else:\n",
    "    print(\"Gelir sinirdan kucuk\")    \n"
   ]
  },
  {
   "cell_type": "code",
   "execution_count": 17,
   "metadata": {},
   "outputs": [
    {
     "name": "stdout",
     "output_type": "stream",
     "text": [
      "Gelir sinira esittir\n"
     ]
    }
   ],
   "source": [
    "#diger ornek\n",
    "sinir = 50000\n",
    "gelir = 50000\n",
    "    \n",
    "if gelir == sinir:\n",
    "    print(\"Gelir sinira esittir\")\n",
    "else:\n",
    "    print(\"Gelir sinira esit degildir\")  \n"
   ]
  },
  {
   "cell_type": "code",
   "execution_count": 18,
   "metadata": {},
   "outputs": [
    {
     "name": "stdout",
     "output_type": "stream",
     "text": [
      "Tebrikler, hediye kazandiniz.\n",
      "Uyari!\n",
      "Takibe devam\n"
     ]
    }
   ],
   "source": [
    "#elif\n",
    "\n",
    "sinir = 50000\n",
    "gelir1 = 60000\n",
    "gelir2 = 50000\n",
    "gelir3 = 35000\n",
    "    \n",
    "if gelir1 > sinir:\n",
    "    print(\"Tebrikler, hediye kazandiniz.\")\n",
    "elif gelir1 < sinir:\n",
    "    print(\"Uyari!\")\n",
    "else:\n",
    "    print(\"Takibe devam\")  \n",
    "\n",
    "\n",
    "if gelir3 > sinir:\n",
    "    print(\"Tebrikler, hediye kazandiniz.\")\n",
    "elif gelir3 < sinir:\n",
    "    print(\"Uyari!\")\n",
    "else:\n",
    "    print(\"Takibe devam\")  \n",
    "\n",
    "\n",
    "if gelir2 > sinir:\n",
    "    print(\"Tebrikler, hediye kazandiniz.\")\n",
    "elif gelir2 < sinir:\n",
    "    print(\"Uyari!\")\n",
    "else:\n",
    "    print(\"Takibe devam\")  "
   ]
  },
  {
   "cell_type": "code",
   "execution_count": 19,
   "metadata": {},
   "outputs": [
    {
     "name": "stdout",
     "output_type": "stream",
     "text": [
      "Magaza Adi Nedir?1\n",
      "Gelirinizi Giriniz:2\n",
      "Uyari! Cok dusuk gelir:2\n"
     ]
    }
   ],
   "source": [
    "#mini uygulama\n",
    "sinir = 50000\n",
    "magaza_adi = input(\"Magaza Adi Nedir?\")\n",
    "gelir = int(input(\"Gelirinizi Giriniz:\"))\n",
    "\n",
    "if gelir > sinir:\n",
    "    print(\"Tebrikler:\" + magaza_adi + \" promosyon kazandiniz!\")\n",
    "elif gelir < sinir:\n",
    "    print(\"Uyari! Cok dusuk gelir:\" + str(gelir))\n",
    "else:\n",
    "    print(\"Takibe devam\")"
   ]
  },
  {
   "cell_type": "code",
   "execution_count": 20,
   "metadata": {},
   "outputs": [
    {
     "name": "stdout",
     "output_type": "stream",
     "text": [
      "ali\n",
      "veli\n",
      "isik\n",
      "berk\n"
     ]
    }
   ],
   "source": [
    "#DONGULER - for\n",
    "\n",
    "ogrenci = [\"ali\",\"veli\",\"isik\",\"berk\"]\n",
    "\n",
    "ogrenci[0]\n",
    "ogrenci[1]\n",
    "ogrenci[2]\n",
    "ogrenci[3]\n",
    "\n",
    "for i in ogrenci:\n",
    "    print(i)\n"
   ]
  },
  {
   "cell_type": "code",
   "execution_count": 21,
   "metadata": {},
   "outputs": [
    {
     "name": "stdout",
     "output_type": "stream",
     "text": [
      "1000\n",
      "2000\n",
      "3000\n",
      "4000\n",
      "5000\n"
     ]
    }
   ],
   "source": [
    "#for - devam\n",
    "\n",
    "maaslar = [1000,2000,3000,4000,5000]\n",
    "\n",
    "maaslar[0]\n",
    "maaslar[1]\n",
    "maaslar[2]\n",
    "maaslar[3]\n",
    "maaslar[4]\n",
    "\n",
    "for maas in maaslar:\n",
    "    print(maas)"
   ]
  },
  {
   "cell_type": "code",
   "execution_count": 22,
   "metadata": {},
   "outputs": [
    {
     "name": "stdout",
     "output_type": "stream",
     "text": [
      "4\n",
      "1000\n",
      "2000\n",
      "3000\n",
      "4000\n",
      "5000\n"
     ]
    }
   ],
   "source": [
    "#dongu ve fonksiyonları birlikte kullanmak\n",
    "\n",
    "def kare_al(x):\n",
    "    print(x**2)    \n",
    "    \n",
    "kare_al(2)    \n",
    "\n",
    "maaslar = [1000,2000,3000,4000,5000]\n",
    "\n",
    "for i in maaslar:\n",
    "    print(i)"
   ]
  },
  {
   "cell_type": "code",
   "execution_count": 23,
   "metadata": {},
   "outputs": [
    {
     "data": {
      "text/plain": [
       "3600.0"
      ]
     },
     "execution_count": 23,
     "metadata": {},
     "output_type": "execute_result"
    }
   ],
   "source": [
    "#maaslara yuzde 20 zam yapilacak gerekli kodlari\n",
    "#yaziniz.\n",
    "\n",
    "1000*20/100  + 1000   \n",
    "\n",
    "maaslar[0]*20/100 + maaslar[0]\n",
    "maaslar[1]*20/100 + maaslar[1]\n",
    "maaslar[2]*20/100 + maaslar[2]    "
   ]
  },
  {
   "cell_type": "code",
   "execution_count": 24,
   "metadata": {},
   "outputs": [
    {
     "name": "stdout",
     "output_type": "stream",
     "text": [
      "4\n",
      "1200.0\n",
      "2400.0\n",
      "3600.0\n",
      "1200.0\n",
      "2400.0\n",
      "3600.0\n",
      "4800.0\n",
      "6000.0\n"
     ]
    }
   ],
   "source": [
    "#dongu yazilacak   \n",
    "#fonksiyon yazmak \n",
    "    \n",
    "def yeni_maas(x):\n",
    "    print(x)\n",
    "\n",
    "yeni_maas(4)\n",
    "\n",
    "def yeni_maas(x):\n",
    "    print(x*20/100 + x)\n",
    "    \n",
    "yeni_maas(1000)\n",
    "yeni_maas(2000)\n",
    "yeni_maas(3000)\n",
    "\n",
    "\n",
    "for i in maaslar:\n",
    "    yeni_maas(i)"
   ]
  },
  {
   "cell_type": "code",
   "execution_count": 25,
   "metadata": {},
   "outputs": [
    {
     "name": "stdout",
     "output_type": "stream",
     "text": [
      "1200.0\n",
      "2400.0\n",
      "3300.0\n",
      "4400.0\n",
      "5500.0\n"
     ]
    }
   ],
   "source": [
    "#mini uygulama\n",
    "#if, for ve fonksiyonlari birlikte kullanmak    \n",
    "\n",
    "    \n",
    "maaslar = [1000,2000,3000,4000,5000]\n",
    "\n",
    "def maas_ust(x):\n",
    "    print(x*10/100 + x)\n",
    "\n",
    "def maas_alt(x):\n",
    "    print(x*20/100 + x)\n",
    "\n",
    "for i in maaslar:\n",
    "    if i >= 3000:\n",
    "        maas_ust(i)\n",
    "    else:\n",
    "        maas_alt(i)"
   ]
  },
  {
   "cell_type": "code",
   "execution_count": 26,
   "metadata": {},
   "outputs": [
    {
     "name": "stdout",
     "output_type": "stream",
     "text": [
      "1000\n",
      "1000\n",
      "2000\n",
      "kesildi\n",
      "1000\n",
      "1000\n",
      "2000\n",
      "5000\n",
      "7000\n",
      "8000\n"
     ]
    }
   ],
   "source": [
    "#break & continue\n",
    "        \n",
    "maaslar = [8000,5000,2000,1000,3000, 7000, 1000]\n",
    "\n",
    "dir(maaslar)\n",
    "\n",
    "maaslar.sort()\n",
    "maaslar\n",
    "\n",
    "for i in maaslar:\n",
    "    if i == 3000:\n",
    "        print(\"kesildi\")\n",
    "        break\n",
    "    print(i)\n",
    "\n",
    " \n",
    "\n",
    "for i in maaslar:\n",
    "    if i == 3000:\n",
    "        continue\n",
    "    print(i)"
   ]
  },
  {
   "cell_type": "code",
   "execution_count": 27,
   "metadata": {},
   "outputs": [
    {
     "name": "stdout",
     "output_type": "stream",
     "text": [
      "2\n",
      "3\n",
      "4\n",
      "5\n",
      "6\n",
      "7\n",
      "8\n",
      "9\n"
     ]
    }
   ],
   "source": [
    "#while\n",
    "\n",
    "sayi = 1\n",
    "\n",
    "while sayi < 9:\n",
    "    sayi += 1\n",
    "    print(sayi)\n"
   ]
  },
  {
   "cell_type": "code",
   "execution_count": 28,
   "metadata": {},
   "outputs": [],
   "source": [
    "#NESNE YONELIMLI PROGRAMLAMA\n",
    "\n",
    "#Sinif Nedir?\n",
    "    \n",
    "\n",
    "    \n",
    "\n",
    "#Sinif Ozellikleri (Class attributes)\n",
    "\n",
    "class VeriBilimci():\n",
    "    bolum = ''\n",
    "    sql = 'Evet'\n",
    "    deneyim_yili = 0\n",
    "    bildigi_diller = []\n",
    "    "
   ]
  },
  {
   "cell_type": "code",
   "execution_count": 29,
   "metadata": {},
   "outputs": [
    {
     "data": {
      "text/plain": [
       "'Evet'"
      ]
     },
     "execution_count": 29,
     "metadata": {},
     "output_type": "execute_result"
    }
   ],
   "source": [
    "#Siniflarin ozelliklerine erismek\n",
    "VeriBilimci.bolum\n",
    "VeriBilimci.sql"
   ]
  },
  {
   "cell_type": "code",
   "execution_count": 30,
   "metadata": {},
   "outputs": [
    {
     "data": {
      "text/plain": [
       "'Hayir'"
      ]
     },
     "execution_count": 30,
     "metadata": {},
     "output_type": "execute_result"
    }
   ],
   "source": [
    "#siniflarin ozelliklerini degistirmek\n",
    "VeriBilimci.sql = \"Hayir\"\n",
    "VeriBilimci.sql\n"
   ]
  },
  {
   "cell_type": "code",
   "execution_count": 31,
   "metadata": {},
   "outputs": [
    {
     "data": {
      "text/plain": [
       "['Python']"
      ]
     },
     "execution_count": 31,
     "metadata": {},
     "output_type": "execute_result"
    }
   ],
   "source": [
    "#Sinif Orneklendirmesi (instantiation)\n",
    "\n",
    "ali = VeriBilimci()\n",
    "\n",
    "ali.sql\n",
    "ali.deneyim_yili\n",
    "ali.bolum\n",
    "ali.bildigi_diller.append(\"Python\")\n",
    "ali.bildigi_diller\n",
    "\n",
    "veli = VeriBilimci()\n",
    "veli.sql\n",
    "\n",
    "veli.bildigi_diller"
   ]
  },
  {
   "cell_type": "code",
   "execution_count": 32,
   "metadata": {},
   "outputs": [
    {
     "data": {
      "text/plain": [
       "''"
      ]
     },
     "execution_count": 32,
     "metadata": {},
     "output_type": "execute_result"
    }
   ],
   "source": [
    "#Ornek ozellikleri\n",
    "\n",
    "class VeriBilimci():\n",
    "    bildigi_diller = [\"R\",\"PYTHON\"]\n",
    "    bolum = ''\n",
    "    sql = ''\n",
    "    deneyim_yili = 0\n",
    "    def __init__(self):\n",
    "        self.bildigi_diller = []\n",
    "        self.bolum = ''\n",
    "\n",
    "ali = VeriBilimci()\n",
    "ali.bildigi_diller\n",
    "\n",
    "veli = VeriBilimci()\n",
    "veli.bildigi_diller\n",
    "\n",
    "ali.bildigi_diller.append(\"Python\")\n",
    "ali.bildigi_diller\n",
    "\n",
    "veli.bildigi_diller\n",
    "veli.bildigi_diller.append(\"R\")\n",
    "veli.bildigi_diller\n",
    "\n",
    "VeriBilimci.bildigi_diller\n",
    "ali.bolum\n",
    "\n",
    "VeriBilimci.bolum\n",
    "ali.bolum = \"istatistik\"\n",
    "VeriBilimci.bolum\n",
    "veli.bolum\n",
    "veli.bolum = \"end_muh\"\n",
    "veli.bolum\n",
    "ali.bolum\n",
    "VeriBilimci.bolum"
   ]
  },
  {
   "cell_type": "code",
   "execution_count": 33,
   "metadata": {},
   "outputs": [
    {
     "ename": "TypeError",
     "evalue": "dil_ekle() missing 1 required positional argument: 'yeni_dil'",
     "output_type": "error",
     "traceback": [
      "\u001b[1;31m---------------------------------------------------------------------------\u001b[0m",
      "\u001b[1;31mTypeError\u001b[0m                                 Traceback (most recent call last)",
      "\u001b[1;32m<ipython-input-33-ee6294b4ea43>\u001b[0m in \u001b[0;36m<module>\u001b[1;34m()\u001b[0m\n\u001b[0;32m     21\u001b[0m \u001b[1;33m\u001b[0m\u001b[0m\n\u001b[0;32m     22\u001b[0m \u001b[0mVeriBilimci\u001b[0m\u001b[1;33m.\u001b[0m\u001b[0mdil_ekle\u001b[0m\u001b[1;33m\u001b[0m\u001b[0m\n\u001b[1;32m---> 23\u001b[1;33m \u001b[0mVeriBilimci\u001b[0m\u001b[1;33m.\u001b[0m\u001b[0mdil_ekle\u001b[0m\u001b[1;33m(\u001b[0m\u001b[1;34m\"R\"\u001b[0m\u001b[1;33m)\u001b[0m\u001b[1;33m\u001b[0m\u001b[0m\n\u001b[0m\u001b[0;32m     24\u001b[0m \u001b[1;33m\u001b[0m\u001b[0m\n\u001b[0;32m     25\u001b[0m \u001b[0mali\u001b[0m\u001b[1;33m.\u001b[0m\u001b[0mdil_ekle\u001b[0m\u001b[1;33m(\u001b[0m\u001b[1;34m\"R\"\u001b[0m\u001b[1;33m)\u001b[0m\u001b[1;33m\u001b[0m\u001b[0m\n",
      "\u001b[1;31mTypeError\u001b[0m: dil_ekle() missing 1 required positional argument: 'yeni_dil'"
     ]
    }
   ],
   "source": [
    "#Ornek Metodlari\n",
    "\n",
    "class VeriBilimci():\n",
    "    calisanlar = []\n",
    "    def __init__(self):\n",
    "        self.bildigi_diller = []\n",
    "        self.bolum = ''\n",
    "    def dil_ekle(self, yeni_dil) :\n",
    "        self.bildigi_diller.append(yeni_dil)\n",
    "\n",
    "\n",
    "ali = VeriBilimci()\n",
    "ali.bildigi_diller\n",
    "ali.bolum\n",
    "\n",
    "veli = VeriBilimci()\n",
    "veli.bildigi_diller\n",
    "veli.bolum\n",
    "\n",
    "dir(VeriBilimci)\n",
    "\n",
    "VeriBilimci.dil_ekle\n",
    "VeriBilimci.dil_ekle(\"R\")\n",
    "\n",
    "ali.dil_ekle(\"R\")\n",
    "ali.bildigi_diller\n",
    "\n",
    "veli.dil_ekle(\"Python\")\n",
    "veli.bildigi_diller"
   ]
  },
  {
   "cell_type": "code",
   "execution_count": 34,
   "metadata": {},
   "outputs": [
    {
     "data": {
      "text/plain": [
       "'a'"
      ]
     },
     "execution_count": 34,
     "metadata": {},
     "output_type": "execute_result"
    }
   ],
   "source": [
    "#Miras Yapilari (inheritance)\n",
    "\n",
    "class Employees():\n",
    "    def __init__(self):\n",
    "        self.FirstName = \"\"\n",
    "        self.LastName = \"\"\n",
    "        self.Address = \"\"\n",
    "\n",
    "class DataScience(Employees):\n",
    "    def __init__(self):\n",
    "        self.Programming = \"\"\n",
    "\n",
    "veribilimci1 = DataScience()\n",
    "#veribilimci1.\n",
    "\n",
    "class Marketing(Employees):\n",
    "    def __init__(self):\n",
    "        self.StoryTelling = \"\"\n",
    "\n",
    "mar1 = Marketing()\n",
    "#mar1.\n",
    "\n",
    "\n",
    "class Employee_yeni():\n",
    "    def __init__(self, FirstName,LastName,Address):\n",
    "        self.FirstName = FirstName\n",
    "        self.LastName = LastName\n",
    "        self.Address = Address\n",
    "\n",
    "\n",
    "ali = Employee_yeni(\"a\",\"b\",\"c\")\n",
    "ali.FirstName\n",
    "\n"
   ]
  },
  {
   "cell_type": "code",
   "execution_count": 35,
   "metadata": {},
   "outputs": [
    {
     "data": {
      "text/plain": [
       "7"
      ]
     },
     "execution_count": 35,
     "metadata": {},
     "output_type": "execute_result"
    }
   ],
   "source": [
    "#Python'da Fonksiyonel Programlama\n",
    "\n",
    "#Fonksiyonlar dilin bastacidir. \n",
    "#(Birinci sinif nesnelerdir)\n",
    "#Yan etkisiz fonksiyonlar. (stateless, girdi-cikti)\n",
    "#Yuksek seviye fonksiyonlar.\n",
    "#Vektorel operasyonlar.\n",
    "\n",
    "\n",
    "#Yan Etkisiz Fonksiyonlar (Pure Functions)\n",
    "\n",
    "#Ornek1:Bagimsizlik\n",
    "\n",
    "A = 9\n",
    "\n",
    "def impure_sum(b):\n",
    "    return b + A\n",
    "\n",
    "def pure_sum(a,b):\n",
    "    return a + b\n",
    "\n",
    "\n",
    "impure_sum(6)\n",
    "pure_sum(3,4)\n",
    "\n"
   ]
  },
  {
   "cell_type": "code",
   "execution_count": 36,
   "metadata": {},
   "outputs": [
    {
     "ename": "FileNotFoundError",
     "evalue": "[Errno 2] No such file or directory: 'deneme.txt'",
     "output_type": "error",
     "traceback": [
      "\u001b[1;31m---------------------------------------------------------------------------\u001b[0m",
      "\u001b[1;31mFileNotFoundError\u001b[0m                         Traceback (most recent call last)",
      "\u001b[1;32m<ipython-input-36-437f8769c625>\u001b[0m in \u001b[0;36m<module>\u001b[1;34m()\u001b[0m\n\u001b[0;32m     13\u001b[0m \u001b[1;33m\u001b[0m\u001b[0m\n\u001b[0;32m     14\u001b[0m \u001b[1;33m\u001b[0m\u001b[0m\n\u001b[1;32m---> 15\u001b[1;33m \u001b[0mlc\u001b[0m \u001b[1;33m=\u001b[0m \u001b[0mLineCounter\u001b[0m\u001b[1;33m(\u001b[0m\u001b[1;34m'deneme.txt'\u001b[0m\u001b[1;33m)\u001b[0m\u001b[1;33m\u001b[0m\u001b[0m\n\u001b[0m\u001b[0;32m     16\u001b[0m \u001b[1;33m\u001b[0m\u001b[0m\n\u001b[0;32m     17\u001b[0m \u001b[0mprint\u001b[0m\u001b[1;33m(\u001b[0m\u001b[0mlc\u001b[0m\u001b[1;33m.\u001b[0m\u001b[0mlines\u001b[0m\u001b[1;33m)\u001b[0m\u001b[1;33m\u001b[0m\u001b[0m\n",
      "\u001b[1;32m<ipython-input-36-437f8769c625>\u001b[0m in \u001b[0;36m__init__\u001b[1;34m(self, filename)\u001b[0m\n\u001b[0;32m      3\u001b[0m \u001b[1;32mclass\u001b[0m \u001b[0mLineCounter\u001b[0m\u001b[1;33m:\u001b[0m\u001b[1;33m\u001b[0m\u001b[0m\n\u001b[0;32m      4\u001b[0m     \u001b[1;32mdef\u001b[0m \u001b[0m__init__\u001b[0m\u001b[1;33m(\u001b[0m\u001b[0mself\u001b[0m\u001b[1;33m,\u001b[0m \u001b[0mfilename\u001b[0m\u001b[1;33m)\u001b[0m\u001b[1;33m:\u001b[0m\u001b[1;33m\u001b[0m\u001b[0m\n\u001b[1;32m----> 5\u001b[1;33m         \u001b[0mself\u001b[0m\u001b[1;33m.\u001b[0m\u001b[0mfile\u001b[0m \u001b[1;33m=\u001b[0m \u001b[0mopen\u001b[0m\u001b[1;33m(\u001b[0m\u001b[0mfilename\u001b[0m\u001b[1;33m,\u001b[0m \u001b[1;34m'r'\u001b[0m\u001b[1;33m)\u001b[0m\u001b[1;33m\u001b[0m\u001b[0m\n\u001b[0m\u001b[0;32m      6\u001b[0m         \u001b[0mself\u001b[0m\u001b[1;33m.\u001b[0m\u001b[0mlines\u001b[0m \u001b[1;33m=\u001b[0m \u001b[1;33m[\u001b[0m\u001b[1;33m]\u001b[0m\u001b[1;33m\u001b[0m\u001b[0m\n\u001b[0;32m      7\u001b[0m \u001b[1;33m\u001b[0m\u001b[0m\n",
      "\u001b[1;31mFileNotFoundError\u001b[0m: [Errno 2] No such file or directory: 'deneme.txt'"
     ]
    }
   ],
   "source": [
    "#Ornek2: Olumcul yan etkiler\n",
    "#OOP\n",
    "class LineCounter:\n",
    "    def __init__(self, filename):\n",
    "        self.file = open(filename, 'r')\n",
    "        self.lines = []\n",
    "    \n",
    "    def read(self):\n",
    "        self.lines = [line for line in self.file]\n",
    "    \n",
    "    def count(self):\n",
    "        return len(self.lines)\n",
    "\n",
    "\n",
    "lc = LineCounter('deneme.txt') \n",
    "\n",
    "print(lc.lines) \n",
    "print(lc.count())\n",
    "\n",
    "lc.read()\n",
    "\n",
    "print(lc.lines)\n",
    "print(lc.count())"
   ]
  },
  {
   "cell_type": "code",
   "execution_count": 37,
   "metadata": {},
   "outputs": [
    {
     "ename": "FileNotFoundError",
     "evalue": "[Errno 2] No such file or directory: 'deneme.txt'",
     "output_type": "error",
     "traceback": [
      "\u001b[1;31m---------------------------------------------------------------------------\u001b[0m",
      "\u001b[1;31mFileNotFoundError\u001b[0m                         Traceback (most recent call last)",
      "\u001b[1;32m<ipython-input-37-b3ce4dbf644e>\u001b[0m in \u001b[0;36m<module>\u001b[1;34m()\u001b[0m\n\u001b[0;32m      8\u001b[0m   \u001b[1;32mreturn\u001b[0m \u001b[0mlen\u001b[0m\u001b[1;33m(\u001b[0m\u001b[0mlines\u001b[0m\u001b[1;33m)\u001b[0m\u001b[1;33m\u001b[0m\u001b[0m\n\u001b[0;32m      9\u001b[0m \u001b[1;33m\u001b[0m\u001b[0m\n\u001b[1;32m---> 10\u001b[1;33m \u001b[0mexample_lines\u001b[0m \u001b[1;33m=\u001b[0m \u001b[0mread\u001b[0m\u001b[1;33m(\u001b[0m\u001b[1;34m'deneme.txt'\u001b[0m\u001b[1;33m)\u001b[0m\u001b[1;33m\u001b[0m\u001b[0m\n\u001b[0m\u001b[0;32m     11\u001b[0m \u001b[0mlines_count\u001b[0m \u001b[1;33m=\u001b[0m \u001b[0mcount\u001b[0m\u001b[1;33m(\u001b[0m\u001b[0mexample_lines\u001b[0m\u001b[1;33m)\u001b[0m\u001b[1;33m\u001b[0m\u001b[0m\n\u001b[0;32m     12\u001b[0m \u001b[0mlines_count\u001b[0m\u001b[1;33m\u001b[0m\u001b[0m\n",
      "\u001b[1;32m<ipython-input-37-b3ce4dbf644e>\u001b[0m in \u001b[0;36mread\u001b[1;34m(filename)\u001b[0m\n\u001b[0;32m      2\u001b[0m \u001b[1;33m\u001b[0m\u001b[0m\n\u001b[0;32m      3\u001b[0m \u001b[1;32mdef\u001b[0m \u001b[0mread\u001b[0m\u001b[1;33m(\u001b[0m\u001b[0mfilename\u001b[0m\u001b[1;33m)\u001b[0m\u001b[1;33m:\u001b[0m\u001b[1;33m\u001b[0m\u001b[0m\n\u001b[1;32m----> 4\u001b[1;33m   \u001b[1;32mwith\u001b[0m \u001b[0mopen\u001b[0m\u001b[1;33m(\u001b[0m\u001b[0mfilename\u001b[0m\u001b[1;33m,\u001b[0m \u001b[1;34m'r'\u001b[0m\u001b[1;33m)\u001b[0m \u001b[1;32mas\u001b[0m \u001b[0mf\u001b[0m\u001b[1;33m:\u001b[0m\u001b[1;33m\u001b[0m\u001b[0m\n\u001b[0m\u001b[0;32m      5\u001b[0m       \u001b[1;32mreturn\u001b[0m \u001b[1;33m[\u001b[0m\u001b[0mline\u001b[0m \u001b[1;32mfor\u001b[0m \u001b[0mline\u001b[0m \u001b[1;32min\u001b[0m \u001b[0mf\u001b[0m\u001b[1;33m]\u001b[0m\u001b[1;33m\u001b[0m\u001b[0m\n\u001b[0;32m      6\u001b[0m \u001b[1;33m\u001b[0m\u001b[0m\n",
      "\u001b[1;31mFileNotFoundError\u001b[0m: [Errno 2] No such file or directory: 'deneme.txt'"
     ]
    }
   ],
   "source": [
    "#FP\n",
    "\n",
    "def read(filename):\n",
    "  with open(filename, 'r') as f:\n",
    "      return [line for line in f]\n",
    "\n",
    "def count(lines):\n",
    "  return len(lines)\n",
    "\n",
    "example_lines = read('deneme.txt')\n",
    "lines_count = count(example_lines)\n",
    "lines_count\n",
    "\n"
   ]
  },
  {
   "cell_type": "code",
   "execution_count": 38,
   "metadata": {},
   "outputs": [
    {
     "data": {
      "text/plain": [
       "[2, 6, 12, 20]"
      ]
     },
     "execution_count": 38,
     "metadata": {},
     "output_type": "execute_result"
    }
   ],
   "source": [
    "#Vektorel Operasyonlar (Vectorel Operations)\n",
    "#OOP\n",
    "a = [1,2,3,4]\n",
    "b = [2,3,4,5]\n",
    "\n",
    "ab = []\n",
    "\n",
    "range(0, len(a))\n",
    "\n",
    "for i in range(0, len(a)):\n",
    "    ab.append(a[i]*b[i])\n",
    "\n",
    "ab"
   ]
  },
  {
   "cell_type": "code",
   "execution_count": 40,
   "metadata": {},
   "outputs": [
    {
     "data": {
      "text/plain": [
       "array([ 2,  6, 12, 20])"
      ]
     },
     "execution_count": 40,
     "metadata": {},
     "output_type": "execute_result"
    }
   ],
   "source": [
    "#FP\n",
    "\n",
    "import numpy as np\n",
    "a = np.array([1,2,3,4])\n",
    "b = np.array([2,3,4,5])\n",
    "\n",
    "a*b\n",
    "\n"
   ]
  },
  {
   "cell_type": "code",
   "execution_count": 41,
   "metadata": {},
   "outputs": [
    {
     "data": {
      "text/plain": [
       "[('c', 1), ('b', 3), ('a', 8), ('d', 12)]"
      ]
     },
     "execution_count": 41,
     "metadata": {},
     "output_type": "execute_result"
    }
   ],
   "source": [
    "#Isimsiz Fonksiyonlar (Anonymous Functions)\n",
    "\n",
    "\n",
    "def old_sum(a,b):\n",
    "    return a + b\n",
    "\n",
    "old_sum(4,5)\n",
    "\n",
    "\n",
    "new_sum = lambda a,b: a + b\n",
    "new_sum(4,5)\n",
    "\n",
    "\n",
    "sirasiz_liste = [('b', 3), ('a', 8), ('d', 12), ('c', 1)]\n",
    "sirasiz_liste\n",
    "\n",
    "sorted(sirasiz_liste, key = lambda x: x[1])\n"
   ]
  },
  {
   "cell_type": "code",
   "execution_count": 42,
   "metadata": {},
   "outputs": [
    {
     "name": "stdout",
     "output_type": "stream",
     "text": [
      "11\n",
      "12\n",
      "13\n",
      "14\n",
      "15\n"
     ]
    },
    {
     "data": {
      "text/plain": [
       "[10, 20, 30, 40, 50]"
      ]
     },
     "execution_count": 42,
     "metadata": {},
     "output_type": "execute_result"
    }
   ],
   "source": [
    "#map & filter & reduce \n",
    "\n",
    "liste = [1,2,3,4,5]\n",
    "\n",
    "for i in liste:\n",
    "    print(i+ 10)\n",
    "\n",
    "\n",
    "list(map(lambda x: x*10, liste))"
   ]
  },
  {
   "cell_type": "code",
   "execution_count": 43,
   "metadata": {},
   "outputs": [
    {
     "data": {
      "text/plain": [
       "[2, 4, 6, 8, 10]"
      ]
     },
     "execution_count": 43,
     "metadata": {},
     "output_type": "execute_result"
    }
   ],
   "source": [
    "#filter\n",
    "\n",
    "liste = [1,2,3,4,5,6,7,8,9,10]\n",
    "\n",
    "list(filter(lambda x: x % 2 == 0, liste))"
   ]
  },
  {
   "cell_type": "code",
   "execution_count": 44,
   "metadata": {},
   "outputs": [
    {
     "data": {
      "text/plain": [
       "10"
      ]
     },
     "execution_count": 44,
     "metadata": {},
     "output_type": "execute_result"
    }
   ],
   "source": [
    "#reduce\n",
    "\n",
    "from functools import reduce\n",
    "\n",
    "liste = [1,2,3,4]\n",
    "reduce(lambda a,b: a + b, liste)\n"
   ]
  },
  {
   "cell_type": "code",
   "execution_count": 45,
   "metadata": {},
   "outputs": [],
   "source": [
    "#Modul Olusturmak\n",
    "\n",
    "\n",
    "#HesapModulu.py\n",
    "def yeni_maas(x):\n",
    "    print(x*20/100 + x)\n",
    "    \n",
    "maaslar = [1000,2000,3000,4000]  "
   ]
  },
  {
   "cell_type": "code",
   "execution_count": 46,
   "metadata": {},
   "outputs": [
    {
     "ename": "ModuleNotFoundError",
     "evalue": "No module named 'HesapModulu'",
     "output_type": "error",
     "traceback": [
      "\u001b[1;31m---------------------------------------------------------------------------\u001b[0m",
      "\u001b[1;31mModuleNotFoundError\u001b[0m                       Traceback (most recent call last)",
      "\u001b[1;32m<ipython-input-46-4643ffcb5f13>\u001b[0m in \u001b[0;36m<module>\u001b[1;34m()\u001b[0m\n\u001b[0;32m      1\u001b[0m \u001b[1;31m#test\u001b[0m\u001b[1;33m\u001b[0m\u001b[1;33m\u001b[0m\u001b[0m\n\u001b[1;32m----> 2\u001b[1;33m \u001b[1;32mimport\u001b[0m \u001b[0mHesapModulu\u001b[0m\u001b[1;33m\u001b[0m\u001b[0m\n\u001b[0m\u001b[0;32m      3\u001b[0m \u001b[0mHesapModulu\u001b[0m\u001b[1;33m.\u001b[0m\u001b[0myeni_maas\u001b[0m\u001b[1;33m(\u001b[0m\u001b[1;36m1000\u001b[0m\u001b[1;33m)\u001b[0m\u001b[1;33m\u001b[0m\u001b[0m\n\u001b[0;32m      4\u001b[0m \u001b[1;33m\u001b[0m\u001b[0m\n\u001b[0;32m      5\u001b[0m \u001b[1;33m\u001b[0m\u001b[0m\n",
      "\u001b[1;31mModuleNotFoundError\u001b[0m: No module named 'HesapModulu'"
     ]
    }
   ],
   "source": [
    "#test\n",
    "import HesapModulu \n",
    "HesapModulu.yeni_maas(1000)\n",
    "\n",
    "\n",
    "import HesapModulu as hm\n",
    "hm.yeni_maas(2000)\n",
    "\n",
    "from HesapModulu import yeni_maas\n",
    "yeni_maas(3000)\n",
    "\n",
    "import HesapModulu as hm\n",
    "hm.maaslar"
   ]
  },
  {
   "cell_type": "code",
   "execution_count": 47,
   "metadata": {},
   "outputs": [
    {
     "ename": "ZeroDivisionError",
     "evalue": "division by zero",
     "output_type": "error",
     "traceback": [
      "\u001b[1;31m---------------------------------------------------------------------------\u001b[0m",
      "\u001b[1;31mZeroDivisionError\u001b[0m                         Traceback (most recent call last)",
      "\u001b[1;32m<ipython-input-47-ace111fa3ae7>\u001b[0m in \u001b[0;36m<module>\u001b[1;34m()\u001b[0m\n\u001b[0;32m      5\u001b[0m \u001b[0mb\u001b[0m \u001b[1;33m=\u001b[0m \u001b[1;36m0\u001b[0m\u001b[1;33m\u001b[0m\u001b[0m\n\u001b[0;32m      6\u001b[0m \u001b[1;33m\u001b[0m\u001b[0m\n\u001b[1;32m----> 7\u001b[1;33m \u001b[0ma\u001b[0m\u001b[1;33m/\u001b[0m\u001b[0mb\u001b[0m\u001b[1;33m\u001b[0m\u001b[0m\n\u001b[0m\u001b[0;32m      8\u001b[0m \u001b[1;33m\u001b[0m\u001b[0m\n\u001b[0;32m      9\u001b[0m \u001b[1;33m\u001b[0m\u001b[0m\n",
      "\u001b[1;31mZeroDivisionError\u001b[0m: division by zero"
     ]
    }
   ],
   "source": [
    "#Hatalar / istisnalar (exceptions)\n",
    "\n",
    "#ZeroDivisionError hatasi\n",
    "a = 10\n",
    "b = 0\n",
    "\n",
    "a/b\n",
    "\n",
    "\n",
    "try:\n",
    "    print(a/b)\n",
    "except ZeroDivisionError:\n",
    "    print(\"Payda da sifir olmaz\")"
   ]
  },
  {
   "cell_type": "code",
   "execution_count": 49,
   "metadata": {},
   "outputs": [
    {
     "ename": "TypeError",
     "evalue": "unsupported operand type(s) for /: 'int' and 'str'",
     "output_type": "error",
     "traceback": [
      "\u001b[1;31m---------------------------------------------------------------------------\u001b[0m",
      "\u001b[1;31mTypeError\u001b[0m                                 Traceback (most recent call last)",
      "\u001b[1;32m<ipython-input-49-3b06ad36f98e>\u001b[0m in \u001b[0;36m<module>\u001b[1;34m()\u001b[0m\n\u001b[0;32m      4\u001b[0m \u001b[0mb\u001b[0m \u001b[1;33m=\u001b[0m \u001b[1;34m\"2\"\u001b[0m\u001b[1;33m\u001b[0m\u001b[0m\n\u001b[0;32m      5\u001b[0m \u001b[1;33m\u001b[0m\u001b[0m\n\u001b[1;32m----> 6\u001b[1;33m \u001b[0ma\u001b[0m \u001b[1;33m/\u001b[0m \u001b[0mb\u001b[0m\u001b[1;33m\u001b[0m\u001b[0m\n\u001b[0m\u001b[0;32m      7\u001b[0m \u001b[1;33m\u001b[0m\u001b[0m\n\u001b[0;32m      8\u001b[0m \u001b[1;32mtry\u001b[0m\u001b[1;33m:\u001b[0m\u001b[1;33m\u001b[0m\u001b[0m\n",
      "\u001b[1;31mTypeError\u001b[0m: unsupported operand type(s) for /: 'int' and 'str'"
     ]
    }
   ],
   "source": [
    "#tip hatasi\n",
    "    \n",
    "a = 10    \n",
    "b = \"2\"\n",
    "\n",
    "a / b\n",
    "\n",
    "try:\n",
    "    print(a/b)\n",
    "except TypeError:\n",
    "    print(\"Sayi ve string problemi\")\n",
    "\n",
    "\n",
    "\n",
    "\n",
    "a = 10    \n",
    "b = 2\n",
    "\n",
    "a / b\n",
    "\n",
    "try:\n",
    "    print(a/b)\n",
    "except TypeError:\n",
    "    print(\"Sayi ve string problemi\")\n",
    "\n",
    "\n",
    "\n",
    "a = [13, 10, 15, 12, 17, 12, 19, 18, 11, 12, 190]\n",
    "a.sort()\n",
    "a\n",
    "\n",
    "\n",
    "a\n",
    "import numpy as np\n",
    "np.median(a)\n"
   ]
  },
  {
   "cell_type": "code",
   "execution_count": null,
   "metadata": {},
   "outputs": [],
   "source": []
  }
 ],
 "metadata": {
  "kernelspec": {
   "display_name": "Python 3",
   "language": "python",
   "name": "python3"
  },
  "language_info": {
   "codemirror_mode": {
    "name": "ipython",
    "version": 3
   },
   "file_extension": ".py",
   "mimetype": "text/x-python",
   "name": "python",
   "nbconvert_exporter": "python",
   "pygments_lexer": "ipython3",
   "version": "3.6.5"
  }
 },
 "nbformat": 4,
 "nbformat_minor": 2
}
